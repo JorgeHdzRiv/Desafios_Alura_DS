{
  "cells": [
    {
      "cell_type": "markdown",
      "metadata": {
        "id": "aQOVKGo9-UA0"
      },
      "source": [
        "# 1.Configuracion del Ambiente\n"
      ]
    },
    {
      "cell_type": "code",
      "execution_count": 3,
      "metadata": {
        "colab": {
          "base_uri": "https://localhost:8080/"
        },
        "id": "okyUJal2-Yf1",
        "outputId": "a3a8cd61-aeb3-4dc9-f8c9-1b0743289f71"
      },
      "outputs": [],
      "source": [
        "#Instalando bibliotecas\n",
        "import pandas as pd\n",
        "import re, os, random, pickle\n",
        "import unicodedata\n",
        "from sklearn.feature_extraction.text import TfidfVectorizer\n",
        "from sklearn.metrics.pairwise import cosine_similarity\n",
        "import spacy\n",
        "import jellyfish\n",
        "from transformers import BertForSequenceClassification\n",
        "from transformers import BertTokenizer\n",
        "import torch\n",
        "\n",
        "#Definiendo variables del proyecto:\n",
        "nlp = spacy.load('es_core_news_md')"
      ]
    },
    {
      "cell_type": "markdown",
      "metadata": {
        "id": "tFpa_uu5AVfu"
      },
      "source": [
        "# 2.Importar Verbos"
      ]
    },
    {
      "cell_type": "code",
      "execution_count": 8,
      "metadata": {
        "colab": {
          "base_uri": "https://localhost:8080/"
        },
        "id": "61bzFdSfAYOm",
        "outputId": "aa1b09a3-2933-4d61-f574-c01c4d30a98d"
      },
      "outputs": [
        {
          "name": "stdout",
          "output_type": "stream",
          "text": [
            "['parar', 'recomendar', 'cancelar', 'fanatizar', 'amaran o amasen', 'exponer', 'obedecer', 'quejar', 'echar', 'legitimar', 'perjudicar', 'organizar', 'molar', 'objetar', 'considerar', 'golear', 'mover', 'acertar', 'reunir', 'regir', 'ilusionar', 'simpatizar', 'conjeturar', 'helar', 'quitar', 'amariamos', 'destacar', 'llegar', 'sincronizar', 'lesionar', 'seducir', 'asistir', 'conservar', 'acordar', 'salvar', 'relucir', 'graduar', 'forzar', 'dar', 'deplorar', 'batear', 'mofar', 'estropear', 'aplastar', 'wasapeo', 'gestionar', 'suprimir', 'gruñir', 'progresar', 'suscribir', 'noticiar', 'cavar', 'alejar', 'galopar', 'virar', 'medir', 'actualizar', 'humanizar', 'convivir', 'gratificar', 'digerir', 'tocar', 'zonificar', 'amariais', 'aterrizar', 'hojear', 'cometer', 'sufrir', 'reciclar', 'obturar', 'divertir', 'ondear', 'listar', 'determinar', 'alentar', 'sumar', 'reflexionar', 'ames', 'anotar', 'mitificar', 'escribir', 'ilustrar', 'obtener', 'subir', 'socorrer', 'desprender', 'agregar', 'gandulear', 'improvisar', 'traquetear', 'idealizar', 'pescar', 'despertarse', 'decorar', 'ceñir', 'asar', 'balbucear', 'noquear', 'amaremos', 'desconectar', 'tambalear', 'vengar', 'bolear', 'trabar', 'resplandecer', 'vagar', 'pasmar', 'susurrar', 'amamos', 'suceder', 'pelar', 'toser', 'preocupar', 'martillar', 'zarpar', 'repartir', 'costar', 'llenar', 'contradecir', 'trasplantar', 'embrujar', 'exonerar', 'wasapearia', 'fabular', 'alquilar', 'capturar', 'granular', 'instruir', 'roer', 'ufanarse', 'filtrar', 'pulsar', 'proporcionar', 'fijar', 'fallar', 'identificar', 'mermar', 'agradar', 'arder', 'desmerecer', 'arquear', 'desquitar', 'contar', 'pesar', 'rendir', 'exfoliar', 'gritar', 'hartar', 'pegar', 'irrumpir', 'resaltar', 'lagrimear', 'filosofar', 'perdonar', 'defender', 'zaherir', 'corromper', 'girar', 'titular', 'guadañar', 'evadir', 'traspasar', 'homenajear', 'dominar', 'variar', 'disminuir', 'wasapea', 'querellar', 'tiritar', 'excavar', 'opinar', 'comentar', 'prohibir', 'repasar', 'vislumbrar', 'alegrar', 'fotografiar', 'mosquear', 'hechizar', 'nadar', 'hastiar', 'recluyen', 'galvanizar', 'planificar', 'fisurar', 'fluctuar', 'comenzar', 'recrudecer', 'exagerar', 'colonizar', 'calcular', 'exterminar', 'desayunar', 'lamer', 'fluir', 'invadir', 'encantar', 'combinar', 'apagar', 'televisar', 'probar', 'aconsejar', 'necesitar', 'disparar', 'manejar', 'oxidar', 'devenir', 'ostentar', 'bucear', 'bautizar', 'moler', 'reir', 'crujir', 'shockear', 'nosotros', 'empezar', 'compensar', 'estatizar', 'alumbrar', 'formalizar', 'imaginar', 'construir', 'disuadir', 'iluminar', 'condimentar', 'estrenar', 'originar', 'abastecer', 'prolongar', 'usurar', 'inhalar', 'declinar', 'ensuciar', 'humillar', 'examinar', 'exteriorizar', 'amare', 'gobernar', 'tramar', 'oscilar', 'huir', 'esperar', 'infringir', 'predecir', 'wasapearian', 'alimentar', 'creer', 'niñear', 'zaparrastrar', 'quebrar', 'wasapeareis', 'almorzar', 'expresar', 'asentir', 'resolver', 'bailar', 'chocar', 'deprimir', 'obsequiar', 'sobrar', 'fluye', 'arañar', 'redimir', 'justiciar', 'acusar', 'robar', 'amaramos o amasemos', 'quemar', 'urdir', 'enamorarse', 'ocultar', 'salir', 'fantasear', 'ovacionar', 'apoyar', 'construyo', 'pedalear', 'galantear', 'lacrar', 'wasapearais o wasapeaseis', 'wasapeen', 'disentir', 'envejecer', 'radiar', 'asfixiar', 'bromear', 'amar', 'masacrar', 'representar', 'proclamar', 'alterar', 'incluyeran', 'inscribir', 'aligerar', 'querer', 'vapulear', 'traer', 'heredar', 'tararear', 'oscurecer', 'disminuyen', 'nutrir', 'oficializar', 'guiar', 'traducir', 'escoger', 'descarrilar', 'colorear', 'luchar', 'wasapeamos', 'ama', 'resarcir', 'convidar', 'liar', 'narrar', 'desconocer', 'ameis', 'protagonizar', 'refrescar', 'doblar', 'montar', 'ensayar', 'comer', 'obrar', 'fruncir', 'marinar', 'subrayar', 'replicar', 'teclear', 'auxiliar', 'litigar', 'sobrevivir', 'obstruir', 'vibrar', 'hablar', 'embestir', 'merendar', 'refutar', 'dirigir', 'hacinar', 'aspirar', 'propagar', 'sobreseer', 'educar', 'centrar', 'extender', 'redistribuya', 'plantar', 'aprobar', 'practicar', 'alarmar', 'bordar', 'instrumentar', 'universalizar', 'desteñir', 'glosar', 'magnificar', 'urgir', 'procurar', 'rebatir', 'quedar', 'razonar', 'macanear', 'renacer', 'repeler', 'fundir', 'rugir', 'subyacer', 'datar', 'incidir', 'frenar', 'negociar', 'definir', 'estallar', 'preexistir', 'turnar', 'caber', 'tranquilizar', 'disolver', 'localizar', 'varar', 'refaccionar', 'chupar', 'programar', 'zigzaguear', 'lookear', 'concluir', 'grisear', 'dividir', 'violentar', 'brincar', 'alborotar', 'dictar', 'casar', 'linchar', 'tricotar', 'temer', 'novelar', 'kickear', 'urbanizar', 'partir', 'mensurar', 'diferenciar', 'emancipar', 'wasapeasteis', 'aburrir', 'sacudir', 'confundir', 'añorar', 'constituyeran', 'ignorar', 'judicializar', 'solicitar', 'nasalizar', 'escuchar', 'desistir', 'esquiar', 'orar', 'cayo', 'bracear', 'herrumbrar', 'wasapean', 'destituyeron', 'trastornar', 'blindar', 'adquirir', 'distribuir', 'balancear', 'wasapeariais', 'instituyo', 'disimular', 'oxigenar', 'testimoniar', 'entusiasmar', 'desmentir', 'fragmentar', 'exhortar', 'felicitar', 'condicionar', 'vacunar', 'encontrar', 'mudar', 'mostrar', 'afilar', 'armar', 'concluyeron', 'mancillar', 'explotar', 'bajar', 'lacerar', 'chatear', 'diseñar', 'valuar', 'mecer', 'adorar', 'exigir', 'birlar', 'suplir', 'prevenir', 'registrar', 'terminar', 'jugar', 'aguardar', 'obviar', 'ellos', 'salar', 'higienizar', 'gatear', 'jerarquizar', 'presentar', 'yerran', 'hibernar', 'venir', 'clavar', 'olvidar', 'gimotear', 'asquear', 'roncar', 'wasapeariamos', 'resultar', 'vaciar', 'languidecer', 'intuyo', 'laquear', 'comprometer', 'enganchar', 'enquistar', 'entrar', 'nominar', 'impregnar', 'mutilar', 'fusilar', 'paralizar', 'tramitar', 'latir', 'vociferar', 'andar', 'arrojar', 'espirar', 'redactar', 'hornear', 'adornar', 'wasapeabas', 'ordenar', 'habilitar', 'prender', 'comerciar', 'transcribir', 'saciar', 'comunicar', 'maldecir', 'conectar', 'juntar', 'anexar', 'impresionar', 'conducir', 'cerrar', 'murmurar', 'firmar', 'merecer', 'neutralizar', 'consolidar', 'obnubilar', 'germinar', 'activar', 'comprar', 'wasapearias', 'reservar', 'sudar', 'atribuyo', 'nacionalizar', 'exhibir', 'yacer', 'contribuyan', 'impedir', 'familiarizar', 'intuir', 'exorcizar', 'obstaculizar', 'flotar', 'amaria', 'pasear', 'humedecer', 'barajar', 'dudar', 'celebrar', 'ayudar', 'adelantar', 'sepultar', 'jubilar', 'depositar', 'preservar', 'disfrazar', 'admitir', 'abatir', 'escalar', 'numerar', 'golpear', 'eliminar', 'llorisquear', 'estar', 'unir', 'sobresalir', 'exceptuar', 'amasteis', 'completar', 'expirar', 'glasear', 'lijar', 'obstruyen', 'expulsar', 'ofender', 'finalizar', 'restaurar', 'pisar', 'patinar', 'cepillar', 'lapidar', 'balar', 'crackear', 'huyeron', 'vaporizar', 'fastidiar', 'suponer', 'diluye', 'ocasionar', 'soler', 'implementar', 'parir', 'hemos wasapeado', 'llamar', 'estimar', 'reportar', 'satirizar', 'aproximar', 'leer', 'diluir', 'brindar', 'engordar', 'restablecer', 'retrasar', 'haya', 'enfriar', 'acariciar', 'vedar', 'lexicalizar', 'vos', 'equivocar', 'declarar', 'arrastrar', 'leñar', 'desafinar', 'garabatear', 'cambiar', 'yendo', 'deber', 'ofrecer', 'afinar', 'mendigar', 'confesar', 'gasificar', 'torcer', 'enchufar', 'incluir', 'retribuir', 'has wasapeado', 'sabotear', 'emitir', 'pillar', 'husmear', 'aportar', 'presumir', 'noblecer', 'privatizar', 'gravitar', 'rehusar', 'sobreexcitar', 'conseguir', 'recluir', 'explicitar', 'levar', 'tasar', 'reprochar', 'referir', 'usurpar', 'coincidir', 'rascar', 'maquillarse', 'distinguir', 'acabar', 'recordar', 'portar', 'presionar', 'aquejar', 'excitar', 'detener', 'amarian', 'garantizar', 'imprimir', 'atender', 'indisponer', 'destruir', 'aliñar', 'reclamar', 'volar', 'codificar', 'enamorar', 'desnudar', 'encender', 'menear', 'ventilar', 'puntualizar', 'pulir', 'sorprender', 'existir', 'tronar', 'maniatar', 'pinchar', 'abolir', 'ocluir', 'climatizar', 'fundar', 'inspirar', 'sonorizar', 'legar', 'migrar', 'notar', 'excretar', 'adjuntar', 'tatuar', 'elevar', 'fingir', 'solucionar', 'pronunciar', 'procesar', 'ulcerar', 'militarizar', 'amaran', 'dibujar', 'vestir', 'reconstruyeron', 'personalizar', 'revertir', 'retirar', 'concentrar', 'amenizar', 'editar', 'hilar', 'administrar', 'ejecutar', 'financiar', 'divorciar', 'borrar', 'vincular', 'sumergir', 'respetar', 'generar', 'afluyen', 'nortear', 'hermanar', 'competir', 'curtir', 'diferir', 'taladrar', 'favorecer', 'preguntar', 'calmar', 'malgastar', 'niquelar', 'pensar', 'malcriar', 'vayamos', 'sucumbir', 'detestar', 'retribuyan', 'complicar', 'reducir', 'aprovechar', 'integrar', 'zamarrear', 'rockear', 'depender', 'tintar', 'advertir', 'rozar', 'acotar', 'recuperar', 'ganar', 'culpar', 'liberar', 'recopilar', 'preferir', 'lucir', 'vacilar', 'ha wasapeado', 'optimizar', 'remplazar', 'saltar', 'lamentar', 'enojar', 'accionar', 'confiar', 'gotear', 'tallar', 'apostar', 'regalar', 'delinquir', 'ungir', 'enseñar', 'decidir', 'reaccionar', 'multiplicar', 'romper', 'untar', 'trotar', 'reflejar', 'enumerar', 'circular', 'wasapee', 'exiliar', 'honrar', 'suspirar', 'guillotinar', 'leyera', 'zorrear', 'encoger', 'avisar', 'calentar', 'asegurar', 'barnizar', 'hincar', 'abandonar', 'enhebrar', 'baldear', 'vivir', 'marear', 'fotocopiar', 'burbujear', 'relacionar', 'remitir', 'orquestar', 'pintar', 'plantear', 'fortalecer', 'concebir', 'situar', 'dimitir', 'matar', 'radicalizar', 'inferir', 'sostener', 'soportar', 'nacer', 'destruyo', 'perfeccionar', 'nominalizar', 'besar', 'destinar', 'exhalar', 'glorificar', 'ahorrar', 'criminalizar', 'empujar', 'conocer', 'conquistar', 'atar', 'movilizar', 'restar', 'coronar', 'sanar', 'acomodar', 'inhabilitar', 'trasladar', 'atribuir', 'estimular', 'tratar', 'fabricar', 'hipotecar', 'degustar', 'bifurcar', 'señalar', 'pretender', 'acostar', 'apreciar', 'contactar', 'lubricar', 'inaugurar', 'planear', 'grabar', 'fregar', 'llevar', 'aplicar', 'equiparar', 'gemir', 'stalkear', 'ultimar', 'acceder', 'descender', 'reproducir', 'mantener', 'funcionar', 'rodar', 'cantar', 'proyectar', 'coordinar', 'rejuvenecer', 'fomentar', 'entretener', 'absorber', 'interferir', 'conceder', 'volver', 'inspeccionar', 'molestar', 'pender', 'oler', 'escupir', 'influye', 'magullar', 'seguir', 'trabajar', 'abrazar', 'invitar', 'revelar', 'inclinar', 'osar', 'orientar', 'bostezar', 'realizar', 'ablandar', 'omitir', 'penetrar', 'sospechar', 'sobrescribir', 'negar', 'limar', 'entrenar', 'volcar', 'pelear', 'elegir', 'persuadir', 'ingresar', 'explorar', 'quintuplicar', 'admirar', 'granizar', 'cuidar', 'invocar', 'castellanizar', 'causar', 'estilizar', 'ingerir', 'equilibrar', 'discriminar', 'informar', 'beneficiar', 'augurar', 'eyectar', 'he wasapeado', 'liderar', 'alegrarse', 'frustrar', 'instruye', 'inventar', 'picar', 'enterar', 'pronosticar', 'recibir', 'zampar', 'exclamar', 'aprender', 'ella', 'laborar', 'recelar', 'menospreciar', 'reconquistar', 'vilipendiar', 'malhumorar', 'hallar', 'maquillar', 'saber', 'gravar', 'aflojar', 'tomar', 'excluir', 'operar', 'descubrir', 'extenuar', 'tensar', 'purificar', 'anular', 'ejercitar', 'tragar', 'concurrir', 'ultrajar', 'asociar', 'relatar', 'sumir', 'consultar', 'expender', 'madurar', 'despedir', 'nivelar', 'visitar', 'guisar', 'usufructuar', 'zanjar', 'vallar', 'vejar', 'enriquecer', 'zafar', 'estremecer', 'recorrer', 'broncear', 'obsesionar', 'oprimir', 'escapar', 'mejorar', 'otear', 'impartir', 'halagar', 'buscar', 'cultivar', 'saquear', 'donar', 'perfumar', 'eximir', 'remover', 'wasapeemos', 'acelerar', 'enfurecer', 'tardar', 'prometer', 'clarear', 'ocurrir', 'bombear', 'respirar', 'jactar', 'torturar', 'veranear', 'transportar', 'presentir', 'elaborar', 'indexar', 'ironizar', 'vetar', 'boicotear', 'meditar', 'estirar', 'negrear', 'descongelar', 'atacar', 'verter', 'soltar', 'wasapeaba', 'jadear', 'fertilizar', 'inmiscuyan', 'tolerar', 'iniciar', 'enfatizar', 'gesticular', 'vagabundear', 'regatear', 'devorar', 'cuchichear', 'zancadillear', 'sindicalizar', 'acreditar', 'tumbar', 'encuestar', 'excluyen', 'botar', 'instalar', 'apuntar', 'subdividir', 'alojar', 'tener', 'otorgar', 'rehuyo', 'apurar', 'freir', 'pregonar', 'vencer', 'complejizar', 'nevar', 'entrometer', 'herrar', 'malograr', 'wasapearan', 'suspender', 'acampar', 'hundir', 'prestar', 'ubicar', 'deletrear', 'responder', 'poseer', 'deponer', 'resfriarse', 'zalear', 'maravillar', 'optar', 'interponer', 'endurecer', 'fortificar', 'desatar', 'irradiar', 'wasapeare', 'reinar', 'excomulgar', 'vendar', 'cifrar', 'eludir', 'stockear', 'consumir', 'granjear', 'titilar', 'flaquear', 'requerir', 'yuxtaponer', 'tentar', 'aliviar', 'extraer', 'explayar', 'inundar', 'retorcer', 'sujetar', 'pulverizar', 'contextualizar', 'habitar', 'utilizar', 'rebobinar', 'holgazanear', 'wasapeeis', 'llover', 'abrochar', 'abusar', 'seleccionar', 'aguantar', 'wasapeara o wasapease', 'observar', 'ovular', 'gerenciar', 'repetir', 'amenazar', 'deteriorar', 'cesar', 'condenar', 'trazar', 'bramar', 'formar', 'almacenar', 'guerrear', 'destituir', 'lastimar', 'errar', 'violar', 'besuquear', 'mezclar', 'modelar', 'obligar', 'amen', 'importar', 'holgar', 'wasapeais', 'izar', 'jabonar', 'exasperar', 'disputar', 'dormir', 'agarrar', 'debatir', 'masajear', 'acompañar', 'wasapeas', 'chasquear', 'zambullir', 'encajar', 'denigrar', 'jalonar', 'juerguear', 'restituir', 'clasificar', 'afirmar', 'amaras o amases', 'remar', 'tirar', 'ligar', 'incumplir', 'moldear', 'decir', 'ajustar', 'madrugar', 'simbolizar', 'batir', 'traficar', 'empequeñecer', 'asesorar', 'wasapearan o wasapeasen', 'tender', 'escabullir', 'entrevistar', 'aquietar', 'aturdir', 'criticar', 'notificar', 'formular', 'marginar', 'quebrantar', 'intimidar', 'engrasar', 'proceder', 'zapar', 'flexibilizar', 'apartar', 'corresponder', 'elogiar', 'juguetear', 'lloviznar', 'judicar', 'atemorizar', 'reprender', 'ver', 'publicar', 'agotar', 'vosotros', 'mentir', 'inhibir', 'explicar', 'guiñar', 'abortar', 'transpirar', 'intervenir', 'sacrificar', 'marchar', 'ir', 'ladrar', 'traicionar', 'reconstituyo', 'animar', 'asomar', 'librar', 'zurcir', 'esquivar', 'lavar', 'renunciar', 'disculpar', 'grajear', 'emplear', 'simular', 'rellenar', 'enfermar', 'igualar', 'combatir', 'embellecer', 'injuriar', 'anunciar', 'amareis', 'desear', 'perder', 'someter', 'apelar', 'investigar', 'cuajar', 'desplazar', 'establecer', 'confluyan', 'embaucar', 'señalizar', 'orinar', 'arrestar', 'fallecer', 'hacer', 'interrumpir', 'voltear', 'complacer', 'sintonizar', 'amarais o amaseis', 'bañar', 'sonar', 'horadar', 'grillar', 'tejer', 'ustedes', 'imponer', 'caminar', 'macerar', 'expandir', 'zapatear', 'rechazar', 'herir', 'asustar', 'posar', 'encargar', 'aclarar', 'platicar', 'sextuplicar', 'venerar', 'relajar', 'encerrar', 'repercutir', 'viajar', 'embrollar', 'amais', 'entristecer', 'morir', 'callar', 'vitorear', 'galardonar', 'subsistir', 'devolver', 'divisar', 'acoger', 'hurgar', 'manipular', 'mediar', 'entorpecer', 'exceder', 'anhelar', 'trepar', 'humear', 'adaptar', 'cocinar', 'amara o amase', 'gambetear', 'uniformar', 'estornudar', 'abrir', 'introducir', 'atrever', 'licuar', 'festejar', 'odiar', 'agitar', 'percibir', 'analizar', 'satisfacer', 'hidratar', 'copiar', 'unisonar', 'acortar', 'triturar', 'interpretar', 'legalizar', 'valorar', 'dejar', 'gustar', 'hurtar', 'usar', 'intentar', 'brotar', 'bambolear', 'machucar', 'faltar', 'ellas', 'narcotizar', 'justificar', 'lograr', 'coleccionar', 'burlar', 'lindar', 'brillar', 'aislar', 'indicar', 'aplaudir', 'cosechar', 'sacar', 'falsificar', 'hackear', 'telefonear', 'asumir', 'marchitar', 'malherir', 'banalizar', 'extinguir', 'desaconsejar', 'comprender', 'proveer', 'manifestar', 'parpadear', 'trackear', 'derretir', 'deshacer', 'arreglar', 'peinar', 'emigrar', 'jactarse', 'carecer', 'saludar', 'balear', 'fracasar', 'reparar', 'saborear', 'colaborar', 'cansar', 'durar', 'menguar', 'protestar', 'influir', 'noviar', 'resistir', 'enredar', 'ensanchar', 'separar', 'tornear', 'afeitar', 'trajinar', 'boxear', 'habeis', 'adivinar', 'revolver', 'naufragar', 'batallar', 'oyeramos', 'bufar', 'flirtear', 'hospitalizar', 'ulular', 'demostrar', 'sugerir', 'mencionar', 'patear', 'normalizar', 'acosar', 'surtir', 'jaquear', 'profetizar', 'recurrir', 'nombrar', 'martirizar', 'esterilizar', 'cenar', 'fusionar', 'infundir', 'hostigar', 'prostituya', 'aumentar', 'amarias', 'fiar', 'fascinar', 'incrementar', 'desarrollar', 'extrañar', 'rodear', 'distraer', 'hipnotizar', 'cooperar', 'constatar', 'regresar', 'convencer', 'ceder', 'hilvanar', 'temperar', 'compartir', 'añadir', 'confirmar', 'reponer', 'envolver', 'sintetizar', 'atrasar', 'olfatear', 'desvestir', 'vigilar', 'hamacar', 'malentender', 'contestar', 'esclarecer', 'llamear', 'compilar', 'mojar', 'facilitar', 'estacionar', 'resumir', 'pedir', 'atenuar', 'renovar', 'oponer', 'envidiar', 'inmigrar', 'reconocer', 'expiar', 'bastar', 'descomponer', 'sustituir', 'ocupar', 'licenciar', 'afectar', 'recitar', 'zaracear', 'maniobrar', 'readmitir', 'inmiscuir', 'nacarar', 'zunchar', 'motivar', 'invertir', 'asesinar', 'difundir', 'participar', 'juzgar', 'cautivar', 'aceptar', 'convertir', 'preparar', 'horrorizar', 'nublar', 'equivaler', 'llorar', 'visualizar', 'impulsar', 'exportar', 'importunar', 'zumbar', 'inquietar', 'esclavizar', 'cubrir', 'retener', 'entrañar', 'irrigar', 'privar', 'excusar', 'objetivar', 'evitar', 'cazar', 'proponer', 'enloquecer', 'hinchar', 'incorporar', 'beber', 'naturalizar', 'acostumbrar', 'lanzar', 'incurrir', 'luxar', 'exaltar', 'rasquetear', 'fumar', 'conversar', 'interesar', 'curar', 'wasapearemos', 'valer', 'ame', 'bonificar', 'wasapearon', 'levantar', 'limpiar', 'vender', 'restringir', 'revisar', 'amas', 'candar', 'decepcionar', 'manotear', 'wasapees', 'medicar', 'florecer', 'liquidar', 'acoplar', 'hospedar', 'soñar', 'esconder', 'tostar', 'oir', 'inyectar', 'vomitar', 'persistir', 'hachar', 'verificar', 'transferir', 'controlar', 'graznar', 'piar', 'provocar', 'mirar', 'enfadar', 'recoger', 'trinar', 'votar', 'indagar', 'gastar', 'configurar', 'triunfar', 'sonreir', 'haber', 'amaron', 'descansar', 'rehacer', 'jinetear', 'malversar', 'opacar', 'habituar', 'poner', 'gestar', 'zarandear', 'victimizar', 'superar', 'babear', 'aterrar', 'ellas wasapeaban', 'justipreciar', 'lidiar', 'figurar', 'amaste', 'estudiar', 'gozar', 'poder', 'resbalar', 'intercambiar', 'citar', 'exprimir', 'facturar', 'ejercer', 'forrar', 'permitir', 'noctambular', 'intoxicar', 'capitular', 'contemplar', 'tapar', 'contratar', 'rezar', 'flamear', 'comparar', 'wasapearamos o wasapeasemos', 'comprimir', 'doler', 'servir', 'vaticinar', 'alunizar', 'bombardear', 'amaras', 'temblar', 'caldear', 'meter', 'proteger', 'describir', 'enviar', 'laminar', 'derribar', 'basar', 'exculpar', 'templar', 'sentir', 'congelar', 'correr', 'consistir', 'concientizar', 'asombrar', 'transmitir', 'ofertar', 'filmar', 'nuclear', 'rogar', 'wasapearas o wasapeases', 'charlar', 'legislar', 'relamer', 'retroceder', 'levitar', 'suplicar', 'empeñar', 'amara', 'crear', 'frotar', 'maquinar', 'cumplir', 'cortar', 'comportar', 'deducir', 'planchar', 'matricular', 'flexionar', 'caramelizar', 'modular', 'abonar', 'disfrutar', 'fraccionar', 'adoptar', 'afrontar', 'hisopar', 'detectar', 'polucionar', 'ladear', 'esquilar', 'borbotear', 'jurar', 'desviar', 'amo', 'exacerbar', 'insertar', 'guardar', 'nebulizar', 'experimentar', 'yerguen', 'soplar', 'han wasapeado', 'aman', 'hervir', 'cruzar', 'abordar', 'desquiciar', 'sustraer', 'idolatrar', 'ser', 'discutir', 'acudir', 'amemos', 'distribuyo', 'emprender', 'ojear', 'imitar', 'transformar', 'demoler', 'morder', 'musicalizar', 'sentar', 'navegar', 'interceder', 'dañar', 'coquetear', 'ningunear', 'expatriar', 'anticipar', 'barrer', 'engañar', 'guarecer', 'estresar', 'incomodar', 'homogeneizar', 'empobrecer', 'tropezar', 'validar', 'limitar', 'coser', 'wasapeabamos', 'argumentar', 'trocear', 'consentir', 'wasapeabais', 'censurar', 'zozobrar', 'refrigerar', 'disponer', 'jalar', 'wasapearas', 'enfervorizar', 'atrapar', 'entender', 'machacar', 'wasapeaste', 'heder', 'evolucionar', 'pasar', 'centralizar', 'hociquear', 'blanquear', 'parafrasear', 'homologar', 'sustituyeran', 'insistir', 'zoncear', 'zurrar', 'tripular', 'regular', 'tartamudear', 'apestar', 'refinar', 'manchar', 'mamar', 'vulnerar', 'bloquear', 'significar', 'insultar', 'cobrar', 'corregir', 'nausear', 'pagar', 'extorsionar', 'transcurrir', 'secar', 'unificar', 'wasapeaban', 'velar', 'contaminar', 'independizar']\n",
            "{'soy': 'ser', 'estuviste': 'estar', 'fuiste': 'ir', 'tuviste': 'tener', 'hiciste': 'hacer', 'dijiste': 'decir', 'dimar': 'decir', 'pudiste': 'poder', 'supiste': 'saber', 'pusiste': 'poner', 'viste': 'ver', 'diste': 'dar', 'damar': 'dar', 'viniste': 'venir', 'haya': 'haber', 'cupiste': 'caber', 'valiste': 'valer', 'quisiste': 'querer', 'llegaste': 'llegar', 'contaste': 'contar', 'cuesta': 'costar', 'duraste': 'durar', 'eres': 'ser', 'estas': 'estar', 'vas': 'ir', 'vaya': 'ir', 'tienes': 'tener', 'haces': 'hacer', 'dices': 'decir', 'dime': 'decir', 'puedes': 'poder', 'sabes': 'saber', 'pones': 'poner', 'ves': 'ver', 'das': 'dar', 'dame': 'dar', 'vienes': 'venir', 'has': 'haber', 'cabes': 'caber', 'vales': 'valer', 'quieres': 'querer', 'llegares': 'llegar', 'cuentas': 'contar', 'cuestan': 'costar', 'duro': 'durar', 'seras': 'ser', 'estaras': 'estar', 'iras': 'ir', 'tendras': 'tener', 'haras': 'hacer', 'diras': 'decir', 'digame': 'decir', 'podras': 'poder', 'sabras': 'saber', 'pondras': 'poner', 'veras': 'ver', 'daras': 'dar', 'vendras': 'venir', 'habras': 'haber', 'cabras': 'caber', 'valdras': 'valer', 'querras': 'querer', 'llegaras': 'llegar', 'contaras': 'contar', 'costo': 'costar', 'duraras': 'durar', 'eras': 'ser', 'estabas': 'estar', 'ibas': 'ir', 'tenias': 'tener', 'hacias': 'hacer', 'decias': 'decir', 'dimir': 'decir', 'podias': 'poder', 'sabias': 'saber', 'ponias': 'poner', 'veias': 'ver', 'dabas': 'dar', 'venias': 'venir', 'habias': 'haber', 'cabias': 'caber', 'valias': 'valer', 'querias': 'querer', 'llegarias': 'llegar', 'contabas': 'contar', 'costaria': 'costar', 'durabas': 'durar', 'es': 'ser', 'dimo': 'decir', 'darme': 'dar', 'hubiste': 'haber', 'cuentame': 'contar', 'costarian': 'costar', 'serias': 'ser', 'estarias': 'estar', 'irias': 'ir', 'tendrias': 'tener', 'harias': 'hacer', 'dirias': 'decir', 'dimiria': 'decir', 'podrias': 'poder', 'sabrias': 'saber', 'pondrias': 'poner', 'verias': 'ver', 'darias': 'dar', 'vendrias': 'venir', 'habrias': 'haber', 'cabrias': 'caber', 'valdrias': 'valer', 'querrias': 'querer', 'llegarrias': 'llegar', 'podria': 'poder', 'contarias': 'contar', 'cuestas': 'costar', 'durarias': 'durar'}\n"
          ]
        }
      ],
      "source": [
        "import pickle\n",
        "\n",
        "url_lista_verbos = \"../models/lista_verbos.pickle\"\n",
        "url_verbos_irregulares = \"../models/verbos_irregulares.pickle\"\n",
        "\n",
        "# Función para cargar archivos pickle desde una ruta local\n",
        "def cargar_pickle_desde_archivo(ruta):\n",
        "    with open(ruta, 'rb') as file:\n",
        "        return pickle.load(file)\n",
        "\n",
        "# Cargar los archivos en variables\n",
        "lista_verbos = cargar_pickle_desde_archivo(url_lista_verbos)\n",
        "verbos_irregulares = cargar_pickle_desde_archivo(url_verbos_irregulares)\n",
        "\n",
        "# Mostrar resultados\n",
        "print(lista_verbos)\n",
        "print(verbos_irregulares)\n"
      ]
    },
    {
      "cell_type": "markdown",
      "metadata": {
        "id": "OiXfO3MFD1wU"
      },
      "source": [
        "# 3.Tratamiento de Datos"
      ]
    },
    {
      "cell_type": "code",
      "execution_count": 9,
      "metadata": {
        "colab": {
          "base_uri": "https://localhost:8080/"
        },
        "id": "zStL24K9H9FF",
        "outputId": "8d36f3b2-bdc0-4dfe-d25e-f37b60cea329"
      },
      "outputs": [
        {
          "data": {
            "text/plain": [
              "0.95"
            ]
          },
          "execution_count": 9,
          "metadata": {},
          "output_type": "execute_result"
        }
      ],
      "source": [
        "# Ejemplo de jellyfish\n",
        "jellyfish.jaro_winkler_similarity('sentirme','sentir')"
      ]
    },
    {
      "cell_type": "markdown",
      "metadata": {
        "id": "eoPKnrHEM4K-"
      },
      "source": [
        "## 3.1 Raiz de las palabras"
      ]
    },
    {
      "cell_type": "markdown",
      "metadata": {
        "id": "wzi9RVF2JIWr"
      },
      "source": [
        "Usando este ejemplo, crearemos una función raiz que reciba una palabra y la compare con todas las palabras de la lista_verbos utilizando jaro_winkler, y que devuelva la palabra de lista_verbos con mayor similaridad a la palabra ingresada.\n",
        "\n",
        "Observación: Si la palabra encontrada, con mayor similaridad, no supera el radio de 0.93 entonces deberá regresar la palabra original.\n",
        "\n",
        "El objetivo de esta función es encontrar la raíz del verbo ingresado."
      ]
    },
    {
      "cell_type": "code",
      "execution_count": 10,
      "metadata": {
        "colab": {
          "base_uri": "https://localhost:8080/"
        },
        "id": "3ZxiGbq5D7pl",
        "outputId": "9741eb11-83ff-4c45-ae7d-ec019336ab3c"
      },
      "outputs": [
        {
          "name": "stdout",
          "output_type": "stream",
          "text": [
            "sentir\n",
            "comiendo\n",
            "dormir\n"
          ]
        }
      ],
      "source": [
        "#Función para encontrar la raiz de las palabras\n",
        "def raiz(palabra):\n",
        "  max_similaridad = 0\n",
        "  mejor_coincidencia = palabra #Por defecto, devolvemos la palabra original\n",
        "\n",
        "  for verbo in lista_verbos:\n",
        "    similitud = jellyfish.jaro_winkler_similarity(palabra, verbo)\n",
        "    if similitud > max_similaridad:\n",
        "      max_similaridad = similitud\n",
        "      mejor_coincidencia = verbo\n",
        "\n",
        "  return mejor_coincidencia if max_similaridad >= 0.93 else palabra\n",
        "\n",
        "# Ejemplo de uso\n",
        "print(raiz(\"sentirme\"))  # Debería devolver \"sentir\" si está en lista_verbos\n",
        "print(raiz(\"comiendo\"))  # Si \"comer\" está en lista_verbos, lo devuelve\n",
        "print(raiz(\"dormir\"))  # Debería devolver \"dormir\" si no está en lista_verbos"
      ]
    },
    {
      "cell_type": "markdown",
      "metadata": {
        "id": "eoCjoLe5M748"
      },
      "source": [
        "## 3.2 Tratamiento de texto"
      ]
    },
    {
      "cell_type": "markdown",
      "metadata": {
        "id": "WguOBZpGLafD"
      },
      "source": [
        "Crea una función tratamiento_texto que reciba una frase de texto y devuelva la misma frase pero sin acentuaciones, todo en minúscula y sin espacios en blanco adicionales.\n",
        "\n",
        "El objetivo de esta función es equilibrar los textos"
      ]
    },
    {
      "cell_type": "code",
      "execution_count": 11,
      "metadata": {
        "colab": {
          "base_uri": "https://localhost:8080/"
        },
        "id": "UOixxKTVLipH",
        "outputId": "1d7c225e-9875-4c92-b177-31b96776497c"
      },
      "outputs": [
        {
          "name": "stdout",
          "output_type": "stream",
          "text": [
            "¡buen dia! ¿como esta todo hoy?\n"
          ]
        }
      ],
      "source": [
        "def tratamiento_texto(texto):\n",
        "    # Convertir a minúsculas\n",
        "    texto = texto.lower()\n",
        "\n",
        "    # Eliminar acentos\n",
        "    texto = ''.join(c for c in unicodedata.normalize('NFD', texto) if unicodedata.category(c) != 'Mn')\n",
        "\n",
        "    # Eliminar espacios adicionales\n",
        "    texto = re.sub(r'\\s+', ' ', texto).strip()\n",
        "\n",
        "    return texto\n",
        "\n",
        "# Ejemplo de uso\n",
        "print(tratamiento_texto('¡Buen día! ¿Cómo está todo hoy?'))"
      ]
    },
    {
      "cell_type": "markdown",
      "metadata": {
        "id": "1ndL-MbHNDeK"
      },
      "source": [
        "## 3.3 Reemplazar terminacion"
      ]
    },
    {
      "cell_type": "markdown",
      "metadata": {
        "id": "RALBlLHdNNSt"
      },
      "source": [
        "Crear una función **reemplazar_terminacion** que reciba una palabra e identifique si la misma termina en alguna de las siguientes palabras: “es”, “me”, “as”, “te”, “ste”, si coincide, entonces que substituya esa terminación por la letra “r”.\n",
        "\n",
        "El objetivo de esta función es aproximar el verbo a su raíz."
      ]
    },
    {
      "cell_type": "code",
      "execution_count": 12,
      "metadata": {
        "colab": {
          "base_uri": "https://localhost:8080/"
        },
        "id": "1D4K1M3bNWGb",
        "outputId": "09b4d37b-4502-40eb-8664-92993cafa924"
      },
      "outputs": [
        {
          "name": "stdout",
          "output_type": "stream",
          "text": [
            "comr\n",
            "sentirr\n",
            "hablar\n",
            "vinir\n"
          ]
        }
      ],
      "source": [
        "# Función para reemplazar el final de una palabra por 'r'\n",
        "def reemplazar_terminacion(palabra):\n",
        "    terminaciones = [\"ste\",\"es\", \"me\", \"as\", \"te\"]\n",
        "\n",
        "    for terminacion in terminaciones:\n",
        "        if palabra.endswith(terminacion):\n",
        "            return palabra[:-len(terminacion)] + \"r\"\n",
        "\n",
        "    return palabra  # Si no coincide, devuelve la palabra original\n",
        "\n",
        "# Ejemplo de uso\n",
        "print(reemplazar_terminacion(\"comes\"))    # \"comer\"\n",
        "print(reemplazar_terminacion(\"sentirme\")) # \"sentir\"\n",
        "print(reemplazar_terminacion(\"hablaste\")) # \"hablar\"\n",
        "print(reemplazar_terminacion(\"viniste\"))  # \"venir\""
      ]
    },
    {
      "cell_type": "markdown",
      "metadata": {
        "id": "5xZAKGaAQNp_"
      },
      "source": [
        "## 3.4 Normalizar Texto"
      ]
    },
    {
      "cell_type": "markdown",
      "metadata": {
        "id": "RuzO2gEgQT9-"
      },
      "source": [
        "Esta función se aprovecha de todas las funciones que has creado anteriormente para regresar una frase a su raíz original, a esto se le conoce como normalizar textos, que es fundamental para el aprendizaje de máquinas, además de aprovechar tus funciones, también utiliza la biblioteca spacy para identificar el tipo de palabra que compone una frase y así decidir cuales debe mantener y cuales palabras deberá eliminar por no ser importantes.\n",
        "\n",
        "Ejemplo de uso de atributos doc"
      ]
    },
    {
      "cell_type": "code",
      "execution_count": 13,
      "metadata": {
        "colab": {
          "base_uri": "https://localhost:8080/"
        },
        "id": "uuSnSp4SQb1B",
        "outputId": "1cb5b7ae-398d-4e92-eaa3-d186a14cc13b"
      },
      "outputs": [
        {
          "name": "stdout",
          "output_type": "stream",
          "text": [
            "Yo - PRON - yo\n",
            "soy - AUX - ser\n",
            "Jorge - PROPN - Jorge\n",
            "y - CCONJ - y\n",
            "me - PRON - yo\n",
            "gusta - VERB - gustar\n",
            "el - DET - el\n",
            "deporte - NOUN - deporte\n",
            "como - SCONJ - como\n",
            "el - DET - el\n",
            "futbol - NOUN - futbol\n"
          ]
        }
      ],
      "source": [
        "frase = 'Yo soy Jorge y me gusta el deporte como el futbol'\n",
        "doc = nlp(frase)\n",
        "for t in doc:\n",
        "  print(t.text, '-', t.pos_, '-', t.lemma_)"
      ]
    },
    {
      "cell_type": "code",
      "execution_count": 14,
      "metadata": {
        "id": "XKPhdhLTJWpq"
      },
      "outputs": [],
      "source": [
        "#Función para devolver los tokens normalizados del texto\n",
        "def normalizar(texto):\n",
        "  tokens=[]\n",
        "  doc = nlp(texto)\n",
        "  for t in doc:\n",
        "    lemma=verbos_irregulares.get(t.text, t.lemma_.split()[0])\n",
        "    lemma=re.sub(r'[^\\w\\s+\\-*/]', '', lemma)\n",
        "    if t.pos_ in ('VERB','PROPN','PRON','NOUN','AUX','SCONJ','ADJ','ADV','NUM') or lemma in lista_verbos:\n",
        "      if t.pos_=='VERB':\n",
        "        lemma = reemplazar_terminacion(lemma)\n",
        "        tokens.append(raiz(tratamiento_texto(lemma)))\n",
        "      else:\n",
        "        tokens.append(tratamiento_texto(lemma))\n",
        "\n",
        "  tokens = list(dict.fromkeys(tokens))\n",
        "  tokens = list(filter(None, tokens))\n",
        "  return tokens"
      ]
    },
    {
      "cell_type": "markdown",
      "metadata": {
        "id": "1FX8lOVBTL55"
      },
      "source": [
        "# 4.Cargar base de documentos"
      ]
    },
    {
      "cell_type": "markdown",
      "metadata": {
        "id": "y7AXnQ56WT3C"
      },
      "source": [
        "## 4.1 Descargar base de dialogos"
      ]
    },
    {
      "cell_type": "code",
      "execution_count": 15,
      "metadata": {
        "id": "6cznR8S-bgGm"
      },
      "outputs": [],
      "source": [
        "# Importando bases de diálogo fluido\n",
        "txt_folder_path = '../data/dialogos'\n",
        "lista_documentos = [x for x in os.listdir(txt_folder_path) if x.endswith(\".txt\")]\n",
        "\n",
        "# Listas para almacenar preguntas, respuestas y tipos de diálogos\n",
        "lista_dialogos, lista_dialogos_respuesta, lista_tipo_dialogo = [], [], []\n",
        "\n",
        "# Procesar cada archivo de diálogo\n",
        "for idx in range(len(lista_documentos)):\n",
        "    tipo = lista_documentos[idx].replace('.txt', '')  # Extraer tipo del archivo\n",
        "\n",
        "    with open(os.path.join(txt_folder_path, lista_documentos[idx]), 'r', encoding='utf-8', errors='ignore') as f:\n",
        "        lineas = [line.strip() for line in f.readlines() if line.strip()]  # Eliminar líneas vacías\n",
        "\n",
        "        # Procesar el archivo línea por línea (pregunta-respuesta en pares)\n",
        "        for i in range(0, len(lineas) - 1, 2):  # Itera de 2 en 2 (pregunta -> respuesta)\n",
        "            pregunta = re.sub(r\"[^\\w\\s+\\-*/]\", '', lineas[i])  # Limpiar pregunta\n",
        "            pregunta = tratamiento_texto(pregunta)  # Aplicar tratamiento de texto\n",
        "            respuesta = lineas[i + 1]  # La respuesta no necesita tratamiento especial\n",
        "\n",
        "            # Agregar a las listas\n",
        "            lista_dialogos.append(pregunta)\n",
        "            lista_dialogos_respuesta.append(respuesta)\n",
        "            lista_tipo_dialogo.append(tipo)\n",
        "\n",
        "# Creando DataFrame de diálogos\n",
        "datos = {\n",
        "    'dialogo': lista_dialogos,\n",
        "    'respuesta': lista_dialogos_respuesta,\n",
        "    'tipo': lista_tipo_dialogo,\n",
        "    'interseccion': 0,\n",
        "    'jaro_winkler': 0,\n",
        "    'probabilidad': 0\n",
        "}\n",
        "\n",
        "df_dialogo = pd.DataFrame(datos)\n",
        "\n",
        "# Eliminar duplicados y resetear índice\n",
        "df_dialogo = df_dialogo.drop_duplicates(keep='first')\n",
        "df_dialogo.reset_index(drop=True, inplace=True)"
      ]
    },
    {
      "cell_type": "code",
      "execution_count": 16,
      "metadata": {
        "colab": {
          "base_uri": "https://localhost:8080/"
        },
        "id": "TVsrAp0rewuU",
        "outputId": "9e74fb20-0d80-4cbc-9e87-4ffdf056d9df"
      },
      "outputs": [
        {
          "data": {
            "text/plain": [
              "(1124, 6)"
            ]
          },
          "execution_count": 16,
          "metadata": {},
          "output_type": "execute_result"
        }
      ],
      "source": [
        "df_dialogo.shape"
      ]
    },
    {
      "cell_type": "code",
      "execution_count": 18,
      "metadata": {
        "colab": {
          "base_uri": "https://localhost:8080/",
          "height": 206
        },
        "id": "_sVu_lPebiJE",
        "outputId": "31c9a8a5-fcfa-422e-fe85-f5ff0e1cdfe3"
      },
      "outputs": [
        {
          "data": {
            "text/html": [
              "<div>\n",
              "<style scoped>\n",
              "    .dataframe tbody tr th:only-of-type {\n",
              "        vertical-align: middle;\n",
              "    }\n",
              "\n",
              "    .dataframe tbody tr th {\n",
              "        vertical-align: top;\n",
              "    }\n",
              "\n",
              "    .dataframe thead th {\n",
              "        text-align: right;\n",
              "    }\n",
              "</style>\n",
              "<table border=\"1\" class=\"dataframe\">\n",
              "  <thead>\n",
              "    <tr style=\"text-align: right;\">\n",
              "      <th></th>\n",
              "      <th>dialogo</th>\n",
              "      <th>respuesta</th>\n",
              "      <th>tipo</th>\n",
              "      <th>interseccion</th>\n",
              "      <th>jaro_winkler</th>\n",
              "      <th>probabilidad</th>\n",
              "    </tr>\n",
              "  </thead>\n",
              "  <tbody>\n",
              "    <tr>\n",
              "      <th>993</th>\n",
              "      <td>hola buenas noches para probar el chat bot</td>\n",
              "      <td>¡Hola! me llamo Madre, ¡el chatbot más guay de...</td>\n",
              "      <td>Saludos</td>\n",
              "      <td>0</td>\n",
              "      <td>0</td>\n",
              "      <td>0</td>\n",
              "    </tr>\n",
              "    <tr>\n",
              "      <th>892</th>\n",
              "      <td>hola guapo</td>\n",
              "      <td>¡Hola! ¿En qué puedo ayudarte hoy?</td>\n",
              "      <td>Saludos</td>\n",
              "      <td>0</td>\n",
              "      <td>0</td>\n",
              "      <td>0</td>\n",
              "    </tr>\n",
              "    <tr>\n",
              "      <th>649</th>\n",
              "      <td>hacer un poema de</td>\n",
              "      <td>Puedo hacer muchas cosas pero sólo estoy autor...</td>\n",
              "      <td>Otros</td>\n",
              "      <td>0</td>\n",
              "      <td>0</td>\n",
              "      <td>0</td>\n",
              "    </tr>\n",
              "    <tr>\n",
              "      <th>1119</th>\n",
              "      <td>que medidas tomas para proteger la seguridad d...</td>\n",
              "      <td>Como chatbot, no recolecto ni almaceno informa...</td>\n",
              "      <td>Usuario</td>\n",
              "      <td>0</td>\n",
              "      <td>0</td>\n",
              "      <td>0</td>\n",
              "    </tr>\n",
              "    <tr>\n",
              "      <th>726</th>\n",
              "      <td>punto de chat</td>\n",
              "      <td>¡Hola! ¿Le puedo ayudar en algo?</td>\n",
              "      <td>Otros</td>\n",
              "      <td>0</td>\n",
              "      <td>0</td>\n",
              "      <td>0</td>\n",
              "    </tr>\n",
              "  </tbody>\n",
              "</table>\n",
              "</div>"
            ],
            "text/plain": [
              "                                                dialogo  \\\n",
              "993          hola buenas noches para probar el chat bot   \n",
              "892                                          hola guapo   \n",
              "649                                   hacer un poema de   \n",
              "1119  que medidas tomas para proteger la seguridad d...   \n",
              "726                                       punto de chat   \n",
              "\n",
              "                                              respuesta     tipo  \\\n",
              "993   ¡Hola! me llamo Madre, ¡el chatbot más guay de...  Saludos   \n",
              "892                  ¡Hola! ¿En qué puedo ayudarte hoy?  Saludos   \n",
              "649   Puedo hacer muchas cosas pero sólo estoy autor...    Otros   \n",
              "1119  Como chatbot, no recolecto ni almaceno informa...  Usuario   \n",
              "726                    ¡Hola! ¿Le puedo ayudar en algo?    Otros   \n",
              "\n",
              "      interseccion  jaro_winkler  probabilidad  \n",
              "993              0             0             0  \n",
              "892              0             0             0  \n",
              "649              0             0             0  \n",
              "1119             0             0             0  \n",
              "726              0             0             0  "
            ]
          },
          "execution_count": 18,
          "metadata": {},
          "output_type": "execute_result"
        }
      ],
      "source": [
        "df_dialogo.sample(5)"
      ]
    },
    {
      "cell_type": "markdown",
      "metadata": {
        "id": "72PCIusM_70c"
      },
      "source": [
        "# 5.Buscar respuestas del chatbot"
      ]
    },
    {
      "cell_type": "markdown",
      "metadata": {
        "id": "982SCB_OBkJp"
      },
      "source": [
        "## 5.1 Comparacion de textos"
      ]
    },
    {
      "cell_type": "markdown",
      "metadata": {
        "id": "NrV2qTaWBmvY"
      },
      "source": [
        "Tenemos nuestra funcion **dialogo()** ,esta función recibe la pregunta del usuario, le realiza una limpieza, y luego recorre todo el dataframe df_dialogo para comparar la pregunta del usuario con la pregunta de los diálogos, si encuentra alguna pregunta que se parezca en más de un 93% entonces devuelve la respuesta correspondiente sino devuelve en blanco.\n",
        "\n",
        "La misión en esta sección será crear 3 tipos de comparación de texto, entre la pregunta del usuario y la pregunta del diálogo (columna dialogo), y devolver el porcentaje de similaridad (entre 0 y 1) de esta comparación, este número será guardado en las columnas 'interseccion', 'similarity', 'jaro_winkler' de nuestro dataframe, correspondiendo al método usado en la comparación:"
      ]
    },
    {
      "cell_type": "code",
      "execution_count": 19,
      "metadata": {
        "colab": {
          "base_uri": "https://localhost:8080/"
        },
        "id": "FhlaC7t3BaWt",
        "outputId": "b11807bb-96a5-49ed-fcfe-ed88193ce646"
      },
      "outputs": [
        {
          "data": {
            "text/plain": [
              "0.6666666666666666"
            ]
          },
          "execution_count": 19,
          "metadata": {},
          "output_type": "execute_result"
        }
      ],
      "source": [
        "# Método 1: Intersección de palabras\n",
        "def interseccion(text1, text2):\n",
        "    palabras_text1 = set(text1.split())\n",
        "    palabras_text2 = set(text2.split())\n",
        "    return len(palabras_text1 & palabras_text2) / max(1, len(palabras_text1))  # Evitar división entre 0\n",
        "\n",
        "interseccion('hola como vas','hola como estas mi amigo')"
      ]
    },
    {
      "cell_type": "code",
      "execution_count": 21,
      "metadata": {
        "colab": {
          "base_uri": "https://localhost:8080/"
        },
        "id": "8Ao_Tc2KDYH5",
        "outputId": "26952ca2-3555-4146-977b-7ffccba4e803"
      },
      "outputs": [
        {
          "name": "stdout",
          "output_type": "stream",
          "text": [
            "0.35630042933313816\n"
          ]
        }
      ],
      "source": [
        "# Método 2: Similaridad con TfidfVectorizer + Cosine Similarity\n",
        "vectorizer = TfidfVectorizer()\n",
        "\n",
        "def similarity(text1, text2):\n",
        "    tfidf_matrix = vectorizer.fit_transform([text1, text2])  # Solo usa text1 y text2\n",
        "    return cosine_similarity(tfidf_matrix[0], tfidf_matrix[1])[0][0]\n",
        "\n",
        "# Prueba del método\n",
        "print(similarity('hola como vas', 'hola como estas mi amigo'))"
      ]
    },
    {
      "cell_type": "code",
      "execution_count": 22,
      "metadata": {
        "colab": {
          "base_uri": "https://localhost:8080/"
        },
        "id": "9e7MmeX4FoU8",
        "outputId": "9f2e9134-d2ec-4347-8cbe-c55c3b858b19"
      },
      "outputs": [
        {
          "data": {
            "text/plain": [
              "0.867948717948718"
            ]
          },
          "execution_count": 22,
          "metadata": {},
          "output_type": "execute_result"
        }
      ],
      "source": [
        "# Método 3: Jaro-Winkler Similarity\n",
        "def jaro_winkler(text1, text2):\n",
        "    return jellyfish.jaro_winkler_similarity(text1, text2)\n",
        "\n",
        "jaro_winkler('hola como vas', 'hola como estas mi amigo')"
      ]
    },
    {
      "cell_type": "code",
      "execution_count": 23,
      "metadata": {
        "id": "BBVj3W0qGB0k"
      },
      "outputs": [],
      "source": [
        "# Función para verificar si el usuario inició un diálogo\n",
        "def dialogo(user_response):\n",
        "    # Tratamiento del texto del usuario\n",
        "    user_response = tratamiento_texto(user_response)  # Normalización del texto\n",
        "    user_response = re.sub(r\"[^\\w\\s]\", '', user_response)  # Elimina signos de puntuación\n",
        "\n",
        "    df = df_dialogo.copy()  # Copia del DataFrame\n",
        "\n",
        "    # Asegurar que todas las columnas existen en el DataFrame\n",
        "    columnas_faltantes = {'interseccion', 'jaro_winkler', 'probabilidad', 'similarity'} - set(df.columns)\n",
        "    for col in columnas_faltantes:\n",
        "        df[col] = 0.0  # Inicializar como float\n",
        "\n",
        "    # Convertir columnas a float64 para evitar advertencias\n",
        "    df[['interseccion', 'jaro_winkler', 'probabilidad', 'similarity']] = df[\n",
        "        ['interseccion', 'jaro_winkler', 'probabilidad', 'similarity']\n",
        "    ].astype(float)\n",
        "\n",
        "    for idx, row in df.iterrows():\n",
        "        # Comparaciones de texto\n",
        "        df.at[idx, 'interseccion'] = float(interseccion(user_response, row['dialogo']))\n",
        "        df.at[idx, 'similarity'] = float(similarity(user_response, row['dialogo']))  # Se añadió 'similarity'\n",
        "        df.at[idx, 'jaro_winkler'] = float(jaro_winkler(user_response, row['dialogo']))\n",
        "\n",
        "        # Determinar la mayor probabilidad entre los métodos\n",
        "        df.at[idx, 'probabilidad'] = float(max(df.at[idx, 'interseccion'], df.at[idx, 'similarity'], df.at[idx, 'jaro_winkler']))\n",
        "\n",
        "    # Ordenar por la mejor coincidencia\n",
        "    df.sort_values(by=['probabilidad', 'jaro_winkler'], inplace=True, ascending=False)\n",
        "    probabilidad = df['probabilidad'].head(1).values[0]\n",
        "\n",
        "    if probabilidad >= 0.93:\n",
        "        print('Respuesta encontrada por el método de comparación de textos - Probabilidad: ', probabilidad)\n",
        "        respuesta = df['respuesta'].head(1).values[0]\n",
        "    else:\n",
        "        respuesta = ''\n",
        "\n",
        "    return respuesta\n"
      ]
    },
    {
      "cell_type": "code",
      "execution_count": 24,
      "metadata": {
        "colab": {
          "base_uri": "https://localhost:8080/"
        },
        "id": "MYB4FyjgGvMZ",
        "outputId": "cb44cfcd-03c5-446d-83f3-57aae8cf2946"
      },
      "outputs": [
        {
          "name": "stdout",
          "output_type": "stream",
          "text": [
            "Respuesta encontrada por el método de comparación de textos - Probabilidad:  1.0000000000000002\n",
            "No estoy programado para ayudarte con esto, sólo estoy autorizado a responder tus dudas sobre Ciencia de Datos\n"
          ]
        }
      ],
      "source": [
        "# Poniendo a prueba la funcion dialogo\n",
        "respuesta = dialogo('dame un codigo')\n",
        "print(respuesta)"
      ]
    },
    {
      "cell_type": "markdown",
      "metadata": {
        "id": "K-3j0GuhJvXB"
      },
      "source": [
        "## 5.2 Machine learning\n",
        "\n"
      ]
    },
    {
      "cell_type": "markdown",
      "metadata": {
        "id": "3YocAMhiKhnS"
      },
      "source": [
        "Utilizar comparación de textos para encontrar la respuesta es bastante útil, pero utilizar un modelo entrenado de Machine Learning es mucho mejor, veamos como podemos entrenar el nuestro:\n",
        "\n",
        "Entre los mejores modelos para clasificación de texto, esto es, recibe una frase de entrada y devuelve el tipo de esta frase, tenemos los siguientes:\n",
        "\n",
        "**Naive Bayes (Básico)**\n",
        "\n",
        "**Random Forest (Intermedio)**\n",
        "\n",
        "**Transformers (Avanzado)**\n",
        "\n",
        "Usaremos el modelo Transformers que previamente fue entrenado de acuerdo a nuestro DataFrame\n",
        "\n",
        "Por último, en la función clasificacion_modelo()deberás usar tu modelo entrenado para predecir la frase ingresada por el usuario, una vez identificado el tipo de la frase, el algoritmo buscará la pregunta más parecida de este tipo en nuestro df_dialogo y devolverá su respectiva respuesta, en caso el tipo sea diferente de ‘Otros’ y su similaridad mayor a 0.5, sino devolverá en blanco."
      ]
    },
    {
      "cell_type": "code",
      "execution_count": 27,
      "metadata": {
        "id": "6BaWIFcKOQE0"
      },
      "outputs": [],
      "source": [
        "# Cargar el modelo entrenado y el tokenizer\n",
        "ruta_modelo = '../models/modelo'\n",
        "Modelo_TF = BertForSequenceClassification.from_pretrained(ruta_modelo)\n",
        "tokenizer_TF = BertTokenizer.from_pretrained(ruta_modelo)\n",
        "\n",
        "# Diccionario de clases (asegúrate de que esté correctamente alineado con tu modelo)\n",
        "diccionario = {0: 'Agradecimiento', 1: 'Aprendizaje', 2: 'Contacto', 3: 'Continuacion',\n",
        "               4: 'Despedida', 5: 'Edad', 6: 'Error', 7: 'Funcion', 8: 'Identidad',\n",
        "               9: 'Nombre', 10: 'Origen', 11: 'Otros', 12: 'Saludos', 13: 'Sentimiento',\n",
        "               14: 'Usuario'}\n",
        "\n",
        "# Función para procesar y clasificar la pregunta\n",
        "def clasificacion_modelo(pregunta):\n",
        "    frase = ' '.join(normalizar(pregunta))\n",
        "\n",
        "    # Tokenizar la frase de entrada\n",
        "    tokens = tokenizer_TF.encode_plus(\n",
        "        frase,\n",
        "        add_special_tokens=True,\n",
        "        max_length=128,\n",
        "        padding='max_length',\n",
        "        truncation=True,\n",
        "        return_tensors='pt'\n",
        "    )\n",
        "\n",
        "    # Obtener los input_ids y attention_mask\n",
        "    input_ids = tokens['input_ids']\n",
        "    attention_mask = tokens['attention_mask']\n",
        "\n",
        "    # Realizar la predicción\n",
        "    with torch.no_grad():\n",
        "        outputs = Modelo_TF(input_ids, attention_mask)\n",
        "\n",
        "    # Obtener las etiquetas predichas\n",
        "    etiquetas_predichas = torch.argmax(outputs.logits, dim=1)\n",
        "\n",
        "    # Decodificar las etiquetas predichas\n",
        "    etiquetas_decodificadas = etiquetas_predichas.tolist()\n",
        "\n",
        "    # Obtener la clase encontrada\n",
        "    llave_buscada = etiquetas_decodificadas[0]\n",
        "    clase_encontrada = diccionario[llave_buscada]\n",
        "    print(\"Respuesta encontrada por el modelo Transformers\", \"se clasifica como: \", clase_encontrada)\n",
        "\n",
        "    # Buscar la respuesta más parecida si no es 'Otros'\n",
        "    if clase_encontrada != 'Otros':\n",
        "        # Buscar respuesta más parecida en la clase encontrada\n",
        "        df = df_dialogo[df_dialogo['tipo'] == clase_encontrada]\n",
        "        df.reset_index(inplace=True)\n",
        "\n",
        "        # Vectorización del texto\n",
        "        vectorizer = TfidfVectorizer()\n",
        "        dialogos_num = vectorizer.fit_transform(df['dialogo'])\n",
        "        pregunta_num = vectorizer.transform([tratamiento_texto(pregunta)])\n",
        "\n",
        "        # Calcular la similaridad\n",
        "        similarity_scores = cosine_similarity(dialogos_num, pregunta_num)\n",
        "        indice_pregunta_proxima = similarity_scores.argmax()\n",
        "\n",
        "        # Si la similaridad es mayor a 0.5, devolver la respuesta\n",
        "        if max(similarity_scores) > 0.5:\n",
        "            respuesta = df['respuesta'][indice_pregunta_proxima]\n",
        "        else:\n",
        "            respuesta = ''\n",
        "            print('No se encontró una respuesta suficiente')\n",
        "\n",
        "    else:\n",
        "        respuesta = ''\n",
        "        print('La clase es \"Otros\", por lo que no se devuelve respuesta.')\n",
        "\n",
        "    return respuesta\n"
      ]
    },
    {
      "cell_type": "markdown",
      "metadata": {
        "id": "-ie4_oaPLvNJ"
      },
      "source": [
        "## 5.3 Respuesta final del Chatbot"
      ]
    },
    {
      "cell_type": "markdown",
      "metadata": {
        "id": "vo43XtNALpLK"
      },
      "source": [
        "En la función respuesta_chatbot(pregunta) nuestro algoritmo buscará primero la respuesta por comparación de textos y sino la encuentra la buscará por el modelo entrenado de Machine Learning, ya está todo listo, veamos en el próximo paso como ejecutar nuestro Chatbot."
      ]
    },
    {
      "cell_type": "code",
      "execution_count": 28,
      "metadata": {
        "id": "r-F1HneVJ0Qf"
      },
      "outputs": [],
      "source": [
        "#Función para devolver una respuesta final buscada en todos los métodos disponibles\n",
        "def respuesta_chatbot(pregunta):\n",
        "  respuesta = dialogo(pregunta)\n",
        "  if respuesta != '':\n",
        "    return respuesta\n",
        "  else:\n",
        "    respuesta = clasificacion_modelo(pregunta)\n",
        "    if respuesta != '':\n",
        "      return respuesta\n",
        "    else:\n",
        "      return 'Respuesta no encontrada'"
      ]
    },
    {
      "cell_type": "markdown",
      "metadata": {
        "id": "ocsqjWRBTtpv"
      },
      "source": [
        "# 6.Ejecutar Chatbot"
      ]
    },
    {
      "cell_type": "markdown",
      "metadata": {
        "id": "MwpYZorwTxQG"
      },
      "source": [
        "En este último paso sólo tenemos que relajarnos y dialogar con nuestro Chatbot, hazle preguntas que estén en los documentos de diálogo, varia un poco tus preguntas, pregunta cosas que el Chatbot no haya visto durante su entrenamiento, pruébalo y observa como nos responde, estamos creando una Inteligencia Artificial, pongamos a prueba esa inteligencia."
      ]
    },
    {
      "cell_type": "code",
      "execution_count": 29,
      "metadata": {
        "colab": {
          "base_uri": "https://localhost:8080/"
        },
        "id": "ZBHqWkboUcEY",
        "outputId": "8a0dc1e3-b62f-4ecd-f221-aa00b1b918eb"
      },
      "outputs": [
        {
          "name": "stdout",
          "output_type": "stream",
          "text": [
            "Respuesta encontrada por el modelo Transformers se clasifica como:  Saludos\n",
            "Estoy bien, gracias. ¿Y tú?\n"
          ]
        }
      ],
      "source": [
        "pregunta = 'hola como estas mi hermano'\n",
        "respuesta = respuesta_chatbot(pregunta)\n",
        "print(respuesta)"
      ]
    },
    {
      "cell_type": "code",
      "execution_count": 30,
      "metadata": {
        "colab": {
          "base_uri": "https://localhost:8080/"
        },
        "id": "qY6PlOquQCRz",
        "outputId": "1b6fe168-4190-4d37-a732-2de2335b67cf"
      },
      "outputs": [
        {
          "name": "stdout",
          "output_type": "stream",
          "text": [
            "Respuesta encontrada por el método de comparación de textos - Probabilidad:  1.0\n",
            "La inteligencia artificial (IA) es un campo de la informática que se centra en crear sistemas informáticos inteligentes. Estos sistemas se diseñan para simular y replicar la capacidad de solución de problemas de los humanos. Esto se logra mediante el uso de algoritmos y técnicas especializadas para permitir que los sistemas informáticos sean capaces de reconocer patrones, comunicarse, aprender, razonar y tomar decisiones.\n"
          ]
        }
      ],
      "source": [
        "pregunta = 'Que es la inteligencia artificial'\n",
        "respuesta = respuesta_chatbot(pregunta)\n",
        "print(respuesta)"
      ]
    }
  ],
  "metadata": {
    "colab": {
      "provenance": [],
      "toc_visible": true
    },
    "kernelspec": {
      "display_name": "venv",
      "language": "python",
      "name": "python3"
    },
    "language_info": {
      "codemirror_mode": {
        "name": "ipython",
        "version": 3
      },
      "file_extension": ".py",
      "mimetype": "text/x-python",
      "name": "python",
      "nbconvert_exporter": "python",
      "pygments_lexer": "ipython3",
      "version": "3.11.9"
    }
  },
  "nbformat": 4,
  "nbformat_minor": 0
}
